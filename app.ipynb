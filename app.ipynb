{
 "cells": [
  {
   "cell_type": "markdown",
   "metadata": {},
   "source": [
    "# Imports"
   ]
  },
  {
   "cell_type": "code",
   "execution_count": null,
   "metadata": {},
   "outputs": [],
   "source": [
    "# Flask\n",
    "import flask\n",
    "from flask import Flask, send_file, request, render_template, make_response, session\n",
    "\n",
    "# SQL\n",
    "import sqlalchemy\n",
    "from flask_sqlalchemy import SQLAlchemy\n",
    "from sqlalchemy import create_engine\n",
    "\n",
    "# app\n",
    "import math\n",
    "import random\n",
    "import sys\n",
    "from datetime import datetime\n",
    "import os\n",
    "import dotenv\n",
    "dotenv.load_dotenv()\n",
    "\n",
    "import numpy as np\n",
    "import pandas as pd\n",
    "import secrets\n",
    "from PIL import Image, ImageDraw\n",
    "\n",
    "try:\n",
    "    from scipy.spatial import cKDTree as KDTree\n",
    "    import numpy as np\n",
    "    IMPORTED_SCIPY = True\n",
    "except ImportError:\n",
    "    IMPORTED_SCIPY = False"
   ]
  },
  {
   "cell_type": "code",
   "execution_count": null,
   "metadata": {},
   "outputs": [],
   "source": [
    "# Structure\n",
    "# ├── /templates\n",
    "# │   ├── /CSS\n",
    "# │   │   └── style.css\n",
    "# │   ├── index.html\n",
    "# │   └── thankyou.html\n",
    "# ├── /static\n",
    "# │   ├── /img\n",
    "# │   │   ├── bluey1.png\n",
    "# │   │   ├── bluey2.png\n",
    "# │   │   ├── bluey3.png\n",
    "# │   │   └── etc...\n",
    "# │   ├── /masks\n",
    "# │   │   ├── A.png\n",
    "# │   │   ├── 1.png\n",
    "# │   │   ├── B.png\n",
    "# │   │   └── etc...\n",
    "# │   ├── /records\n",
    "# │   │   └── all recorded images...\n",
    "# │   ├── temp.png\n",
    "# │   └── welcome.png\n",
    "# ├── /CSV\n",
    "# │   └── pallets_dictionary.csv\n",
    "# ├── app.py\n",
    "# └── requirements.txt"
   ]
  },
  {
   "cell_type": "markdown",
   "metadata": {},
   "source": [
    "### Flask App Start"
   ]
  },
  {
   "cell_type": "code",
   "execution_count": null,
   "metadata": {},
   "outputs": [],
   "source": [
    "app = Flask(__name__,instance_relative_config=False)\n",
    "# Config\n",
    "KEY = os.environ.get('SECRET_KEY')\n",
    "app.config['SECRET_KEY'] = KEY\n",
    "app.config['FLASK_APP'] = 'wsgi.py'\n",
    "app.config['DEBUG'] = False\n",
    "app.config['ASSETS_DEBUG'] = False\n",
    "app.config['COMPRESSOR_DEBUG'] = False\n",
    "app.config['STATIC_FOLDER'] = 'static'\n",
    "app.config['TEMPLATES_FOLDER'] = 'templates'\n",
    "app.config['SEND_FILE_MAX_AGE_DEFAULT'] = 1 # To ensure new image loads\n",
    "\n",
    "# SQL Connection\n",
    "HEROKU_POSTGRESQL = os.environ.get('HEROKU_POSTGRESQL_PURPLE_URL')\n",
    "engine = create_engine(HEROKU_POSTGRESQL)"
   ]
  },
  {
   "cell_type": "markdown",
   "metadata": {},
   "source": [
    "### Route = /"
   ]
  },
  {
   "cell_type": "code",
   "execution_count": 4,
   "metadata": {},
   "outputs": [],
   "source": [
    "@app.route('/', methods=['GET','POST'])\n",
    "\n",
    "def main():\n",
    "\n",
    "    # Front End Variables\n",
    "    ##################################\n",
    "    \n",
    "    # Welcome Image\n",
    "    temp_img_url = '/static/welcome.png'\n",
    "    \n",
    "    # Display Thank You page after 100 attempts.\n",
    "    counter = image_data['counter']\n",
    "    \n",
    "    if image_data[\"counter\"] >= 101:\n",
    "        url = 'thankyou.html'\n",
    "    else:\n",
    "        url = 'index.html'\n",
    "    \n",
    "    # Response Capturing\n",
    "    ##################################\n",
    "\n",
    "    if flask.request.method == 'POST':\n",
    "        inputs = flask.request.form\n",
    "        recorded_result = inputs['submit']\n",
    "        dummytime = datetime.now().strftime(\"%S\")\n",
    "        temp_img_url = '/static/temp.png?dummy=' + str(dummytime) # display new image.\n",
    "        answer(recorded_result)\n",
    "        session['username'] = image_data['user']\n",
    "        session['counter'] = image_data['counter']\n",
    "        \n",
    "    else:\n",
    "        print('Not Post')\n",
    "    \n",
    "    # Render Template\n",
    "    return flask.render_template(url, counter = counter, temp_img_url = temp_img_url) "
   ]
  },
  {
   "cell_type": "markdown",
   "metadata": {},
   "source": [
    "### Ishihara Data Management"
   ]
  },
  {
   "cell_type": "code",
   "execution_count": 5,
   "metadata": {},
   "outputs": [],
   "source": [
    "# open and read the pallets csv\n",
    "# this will become a second SQL Db down the line\n",
    "pallets_dictionary = pd.read_csv('./CSV/pallets_dictionary.csv', index_col=False)\n",
    "\n",
    "# Data dictionary pushed to SQL/CSV\n",
    "image_data = {\n",
    "    'user': secrets.token_urlsafe(4),\n",
    "    'counter' : 0,\n",
    "    'correct': 0,\n",
    "    'recorded_result' : \"\",\n",
    "    'mask_image' : 6,\n",
    "    'cb_type1' : 0,\n",
    "    'cb_type2' : 0,\n",
    "    'ncb' : 0,\n",
    "    'datetime' : 'New User',\n",
    "    'random_spread' : 15,\n",
    "    'pallet_used' : \"\",\n",
    "    'pallet_values' : [],\n",
    "    'ishihara_list' :[],\n",
    "    'COLORS_ON' : [],\n",
    "    'COLORS_OFF' : [],\n",
    "}"
   ]
  },
  {
   "cell_type": "markdown",
   "metadata": {},
   "source": [
    "### Global Variables"
   ]
  },
  {
   "cell_type": "code",
   "execution_count": 6,
   "metadata": {},
   "outputs": [],
   "source": [
    "# Find somewhere to put these.\n",
    "# White background.\n",
    "BACKGROUND = (255, 255, 255)\n",
    "# set to limit generation time.\n",
    "TOTAL_CIRCLES = 700"
   ]
  },
  {
   "cell_type": "markdown",
   "metadata": {},
   "source": [
    "### Randomisation of Colours"
   ]
  },
  {
   "cell_type": "code",
   "execution_count": 7,
   "metadata": {},
   "outputs": [],
   "source": [
    "# Selecting a pallet and randomizing.\n",
    "def pallet_randomiser():\n",
    "    [random_hex] = pallets_dictionary.sample(n=1).values.tolist()\n",
    "    random_set = random_hex[0]\n",
    "    image_data['ishihara_list'] = []  # WRITING TO IMAGE_DATA\n",
    "    for colour in random_hex[1:13]:\n",
    "        hex_colour = colour.lstrip('#')\n",
    "        converted_value = list(int(hex_colour[i:i+2], 16) for i in (0, 2, 4))\n",
    "        colour_randomised = [np.random.randint((max(0, channel - image_data['random_spread'])), (min(255, channel + image_data['random_spread']))) for channel in converted_value]\n",
    "        image_data['ishihara_list'].append(tuple(colour_randomised))\n",
    "\n",
    "    image_data['COLORS_ON'] = [i  for i in image_data['ishihara_list'][0:6]] # WRITING TO IMAGE_DATA\n",
    "    image_data['COLORS_OFF'] = [i for i in image_data['ishihara_list'][6:12]] # WRITING TO IMAGE_DATA\n",
    "    image_data.update(pallet_used = random_set)  # WRITING TO IMAGE_DATA\n",
    "    image_data.update(pallet_values = random_hex[1:13])  # WRITING TO IMAGE_DATA\n",
    "    image_data.update(cb_type1 = random_hex[13])  # WRITING TO IMAGE_DATA\n",
    "    image_data.update(cb_type2 = random_hex[14])  # WRITING TO IMAGE_DATA\n",
    "    image_data.update(ncb = random_hex[15])  # WRITING TO IMAGE_DATA"
   ]
  },
  {
   "cell_type": "markdown",
   "metadata": {},
   "source": [
    "### Circle / Dot Functions"
   ]
  },
  {
   "cell_type": "code",
   "execution_count": 8,
   "metadata": {},
   "outputs": [],
   "source": [
    "# max_diameter * 2.6 + min_diameter * 0.6\n",
    "def generate_circle(image_width, image_height, min_diameter, max_diameter):\n",
    "    radius = random.triangular(min_diameter, max_diameter,max_diameter * .8 + min_diameter * .2) / 2\n",
    "\n",
    "    angle = random.uniform(0, math.pi * 2)\n",
    "    distance_from_center = random.uniform(0, image_width * 0.48 - radius)\n",
    "    x = image_width  * 0.5 + math.cos(angle) * distance_from_center\n",
    "    y = image_height * 0.5 + math.sin(angle) * distance_from_center\n",
    "\n",
    "    return x, y, radius\n",
    "\n",
    "def overlaps_motive(image, xyr_values):\n",
    "    (x, y, r) = xyr_values\n",
    "    points_x = [x, x, x, x-r, x+r, x-r*0.93, x-r*0.93, x+r*0.93, x+r*0.93]\n",
    "    points_y = [y, y-r, y+r, y, y, y+r*0.93, y-r*0.93, y+r*0.93, y-r*0.93]\n",
    "\n",
    "    for xy in zip(points_x, points_y):\n",
    "        if image.getpixel(xy)[:3] != BACKGROUND:\n",
    "            return True\n",
    "    return False\n",
    "\n",
    "def circle_intersection(xyr_values1, xyr_values2):\n",
    "    (x1, y1, r1) = xyr_values1\n",
    "    (x2, y2, r2) = xyr_values2\n",
    "    return (x2 - x1)**2 + (y2 - y1)**2 < (r2 + r1)**2\n",
    "\n",
    "def circle_draw(draw_image, image, xyr_values3):\n",
    "    (x, y, r) = xyr_values3\n",
    "    fill_colors = image_data['COLORS_ON'] if overlaps_motive(image, (x, y, r)) else image_data['COLORS_OFF']\n",
    "    fill_color = random.choice(fill_colors)\n",
    "    draw_image.ellipse((x - r, y - r, x + r, y + r),\n",
    "                    fill=fill_color,\n",
    "                    outline=fill_color)"
   ]
  },
  {
   "cell_type": "markdown",
   "metadata": {},
   "source": [
    "### Image Generation Function"
   ]
  },
  {
   "cell_type": "code",
   "execution_count": 9,
   "metadata": {},
   "outputs": [],
   "source": [
    "                   \n",
    "def generate_image():\n",
    "    print(\"Running\")\n",
    "\n",
    "    pallet_randomiser()\n",
    "    masks = [\"A\",\"B\",\"C\",\"D\",\"E\",\"1\",\"2\",\"3\",\"4\",\"5\",\"No Image\"]\n",
    "    random_mask = random.choice(masks)\n",
    "    image_data.update(mask_image = random_mask) # WRITING TO IMAGE_DATA\n",
    "    mask_path = './static/masks/'+random_mask+\".png\"\n",
    "\n",
    "    image = Image.open(mask_path)\n",
    "    image2 = Image.new('RGB', image.size, BACKGROUND)\n",
    "    draw_image = ImageDraw.Draw(image2)\n",
    "\n",
    "    width, height = image.size\n",
    "\n",
    "    # Set dot size here\n",
    "    min_diameter = (width + height) / 185\n",
    "    max_diameter = (width + height) / 51\n",
    "\n",
    "    circle = generate_circle(width, height, min_diameter, max_diameter)\n",
    "    circles = [circle]\n",
    "\n",
    "    circle_draw(draw_image, image, circle)\n",
    "\n",
    "    try:\n",
    "        for i in range(TOTAL_CIRCLES):\n",
    "            tries = 0\n",
    "            if IMPORTED_SCIPY:\n",
    "                kdtree = KDTree([(x, y) for (x, y, _) in circles])\n",
    "                while True:\n",
    "                    circle = generate_circle(width, height, min_diameter, max_diameter)\n",
    "                    elements, indexes = kdtree.query([(circle[0], circle[1])], k=12)\n",
    "                    for element, index in zip(elements[0], indexes[0]):\n",
    "                        if not np.isinf(element) and circle_intersection(circle, circles[index]):\n",
    "                            break\n",
    "                    else:\n",
    "                        break\n",
    "                    tries += 1\n",
    "            else:\n",
    "                while any(circle_intersection(circle, circle2) for circle2 in circles):\n",
    "                    tries += 1\n",
    "                    circle = generate_circle(width, height, min_diameter, max_diameter)\n",
    "\n",
    "            # print('{}/{} {}'.format(i, TOTAL_CIRCLES, tries))\n",
    "\n",
    "            circles.append(circle)\n",
    "            circle_draw(draw_image, image, circle)\n",
    "    except (KeyboardInterrupt, SystemExit):\n",
    "        pass\n",
    "\n",
    "    image2.save('static/temp.png') #overwrites existing image\n",
    "    thetime = datetime.now().strftime(\"%Y-%m-%d %H:%M:%S\")\n",
    "    image_data.update(datetime = thetime)\n",
    "    # image2.save('static/records/' + str(thetime) + '.png') # Only used locally"
   ]
  },
  {
   "cell_type": "markdown",
   "metadata": {},
   "source": [
    "### Result Variables"
   ]
  },
  {
   "cell_type": "code",
   "execution_count": 10,
   "metadata": {},
   "outputs": [],
   "source": [
    "\n",
    "def answer(recorded_result):\n",
    "\n",
    "    # 1) Correct Or Not\n",
    "    image_data.update(recorded_result = recorded_result)\n",
    "    if image_data['recorded_result'] == image_data['mask_image']:\n",
    "        image_data.update(correct = 1) # WRITING TO IMAGE_DATA\n",
    "    else:\n",
    "        image_data.update(correct = 0) # WRITING TO IMAGE_DATA\n",
    "\n",
    "    # 2) Counter +1\n",
    "    image_data[\"counter\"] += 1 # WRITING TO IMAGE_DATA\n",
    "\n",
    "    # 3) Write to file\n",
    "    datafile = pd.DataFrame(image_data.values()).T\n",
    "    datafile.columns = image_data.keys()\n",
    "    # datafile.to_csv('./CSV/dev_colourdata.csv', mode='a', header=False, index=False)\n",
    "    # print(datafile)\n",
    "    # datafile.to_sql('colour_data', engine, if_exists='append', index=False)\n",
    "\n",
    "    # 4) Generate New Image\n",
    "    generate_image() # Run Main Func"
   ]
  },
  {
   "cell_type": "markdown",
   "metadata": {},
   "source": [
    "### Image Refresh "
   ]
  },
  {
   "cell_type": "code",
   "execution_count": null,
   "metadata": {},
   "outputs": [
    {
     "name": "stdout",
     "output_type": "stream",
     "text": [
      " * Serving Flask app \"__main__\" (lazy loading)\n",
      " * Environment: production\n",
      "\u001b[31m   WARNING: This is a development server. Do not use it in a production deployment.\u001b[0m\n",
      "\u001b[2m   Use a production WSGI server instead.\u001b[0m\n",
      " * Debug mode: off\n"
     ]
    },
    {
     "name": "stderr",
     "output_type": "stream",
     "text": [
      " * Running on http://127.0.0.1:5000/ (Press CTRL+C to quit)\n",
      "127.0.0.1 - - [08/Oct/2020 11:42:29] \"\u001b[37mGET / HTTP/1.1\u001b[0m\" 200 -\n",
      "127.0.0.1 - - [08/Oct/2020 11:42:29] \"\u001b[37mGET /static/welcome.png HTTP/1.1\u001b[0m\" 200 -\n"
     ]
    },
    {
     "name": "stdout",
     "output_type": "stream",
     "text": [
      "Not Post\n"
     ]
    },
    {
     "name": "stderr",
     "output_type": "stream",
     "text": [
      "127.0.0.1 - - [08/Oct/2020 11:42:30] \"\u001b[33mGET /favicon.ico HTTP/1.1\u001b[0m\" 404 -\n"
     ]
    }
   ],
   "source": [
    "\n",
    "# No caching at all for API endpoints.\n",
    "# Have disabled this previously, does not fix session issue.\n",
    "# Solves most image refresh issues, not for everyone.\n",
    "@app.after_request\n",
    "def add_header(response):\n",
    "    # response.cache_control.no_store = True\n",
    "    if 'Cache-Control' not in response.headers:\n",
    "        response.headers['Cache-Control'] = 'no-store'\n",
    "    return response\n",
    "\n",
    "if __name__ == '__main__':\n",
    "    # This is used when running locally only. When deploying to Google App\n",
    "    # Engine, a webserver process such as Gunicorn will serve the app. This\n",
    "    # can be configured by adding an `entrypoint` to app.yaml.\n",
    "    app.run(host='127.0.0.1', port=5000, use_reloader=False)\n",
    "# [END gae_python38_app]"
   ]
  },
  {
   "cell_type": "code",
   "execution_count": null,
   "metadata": {},
   "outputs": [],
   "source": []
  },
  {
   "cell_type": "code",
   "execution_count": null,
   "metadata": {},
   "outputs": [],
   "source": []
  }
 ],
 "metadata": {
  "kernelspec": {
   "display_name": "Python 3",
   "language": "python",
   "name": "python3"
  },
  "language_info": {
   "codemirror_mode": {
    "name": "ipython",
    "version": 3
   },
   "file_extension": ".py",
   "mimetype": "text/x-python",
   "name": "python",
   "nbconvert_exporter": "python",
   "pygments_lexer": "ipython3",
   "version": "3.8.5"
  }
 },
 "nbformat": 4,
 "nbformat_minor": 4
}
