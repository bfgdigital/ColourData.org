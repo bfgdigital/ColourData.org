{
 "cells": [
  {
   "cell_type": "code",
   "execution_count": 47,
   "metadata": {},
   "outputs": [],
   "source": [
    "# Data dictionary pushed to SQL/CSV\n",
    "image_data = {\n",
    "    'recorded_result' : \"2\",\n",
    "    'mask_image' : \"B\",\n",
    "}"
   ]
  },
  {
   "cell_type": "code",
   "execution_count": 48,
   "metadata": {},
   "outputs": [
    {
     "name": "stdout",
     "output_type": "stream",
     "text": [
      "Oh noes\n"
     ]
    }
   ],
   "source": [
    "near_miss_scenarios = [(\"E\",\"B\"),(\"D\",\"B\"),(\"3\",\"B\"),(\"C\",\"5\"),(\"B\",\"E\"),(\"B\",\"D\"),(\"B\",\"3\"),(\"5\",\"C\")]\n",
    "near_miss_situation = (image_data['recorded_result'],image_data['mask_image'],)\n",
    "if near_miss_situation in near_miss_scenarios or near_miss_situation[::-1] in near_miss_scenarios :\n",
    "    print('works')\n",
    "else:\n",
    "    print('Oh noes')"
   ]
  },
  {
   "cell_type": "code",
   "execution_count": 44,
   "metadata": {},
   "outputs": [
    {
     "data": {
      "text/plain": [
       "('E', 'B')"
      ]
     },
     "execution_count": 44,
     "metadata": {},
     "output_type": "execute_result"
    }
   ],
   "source": [
    "near_miss_situation"
   ]
  },
  {
   "cell_type": "code",
   "execution_count": null,
   "metadata": {},
   "outputs": [],
   "source": []
  }
 ],
 "metadata": {
  "kernelspec": {
   "display_name": "Python 3",
   "language": "python",
   "name": "python3"
  },
  "language_info": {
   "codemirror_mode": {
    "name": "ipython",
    "version": 3
   },
   "file_extension": ".py",
   "mimetype": "text/x-python",
   "name": "python",
   "nbconvert_exporter": "python",
   "pygments_lexer": "ipython3",
   "version": "3.8.5"
  }
 },
 "nbformat": 4,
 "nbformat_minor": 4
}
